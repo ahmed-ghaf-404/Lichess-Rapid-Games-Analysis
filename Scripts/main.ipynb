{
 "cells": [
  {
   "cell_type": "code",
   "execution_count": 1,
   "metadata": {},
   "outputs": [],
   "source": [
    "# imports\n",
    "import _utility as util\n",
    "from DatabaseManager import DatabaseManager"
   ]
  },
  {
   "cell_type": "code",
   "execution_count": 2,
   "metadata": {},
   "outputs": [
    {
     "name": "stdout",
     "output_type": "stream",
     "text": [
      "terminating database....\n",
      "terminating database....\n",
      "terminating database....\n",
      "terminating database....\n"
     ]
    }
   ],
   "source": [
    "# load database\n",
    "dbManager = DatabaseManager()"
   ]
  },
  {
   "cell_type": "code",
   "execution_count": 3,
   "metadata": {},
   "outputs": [
    {
     "name": "stdout",
     "output_type": "stream",
     "text": [
      "terminating database....\n",
      "[]\n",
      "terminating database....\n",
      "[]\n",
      "terminating database....\n",
      "[]\n"
     ]
    }
   ],
   "source": [
    "# checking the users table\n",
    "print(dbManager.runCommand(\"SELECT * FROM users LIMIT 5;\"))\n",
    "# checking the games table\n",
    "print(dbManager.runCommand(\"SELECT * FROM games LIMIT 1;\"))\n",
    "# checking the gameStats table\n",
    "print(dbManager.runCommand(\"SELECT * FROM gameStats LIMIT 1;\"))"
   ]
  },
  {
   "cell_type": "code",
   "execution_count": 4,
   "metadata": {},
   "outputs": [
    {
     "name": "stdout",
     "output_type": "stream",
     "text": [
      "terminating database....\n",
      "[(0,)]\n",
      "terminating database....\n",
      "[(0,)]\n",
      "terminating database....\n",
      "[(0,)]\n"
     ]
    }
   ],
   "source": [
    "# checking the users table\n",
    "print(dbManager.runCommand(\"SELECT COUNT(*) FROM users LIMIT 5;\"))\n",
    "# checking the games table\n",
    "print(dbManager.runCommand(\"SELECT COUNT(*) FROM games LIMIT 1;\"))\n",
    "# checking the gameStats table\n",
    "print(dbManager.runCommand(\"SELECT COUNT(*) FROM gameStats LIMIT 1;\"))"
   ]
  },
  {
   "cell_type": "code",
   "execution_count": 5,
   "metadata": {},
   "outputs": [
    {
     "name": "stdout",
     "output_type": "stream",
     "text": [
      "Creating creating values to add to users table\n",
      "Done creating values to add to users table: 0 element\n",
      "syntax error at or near \";\"\n",
      "LINE 1: INSERT INTO users (userId, title, rating) VALUES;\n",
      "                                                        ^\n",
      "\n",
      "Creating creating values to add to games table\n",
      "Done creating values to add to games table\n",
      "syntax error at or near \";\"\n",
      "LINE 1: ...es (gameId,status,whiteId, blackId,eco,moves,winner) VALUES;\n",
      "                                                                      ^\n",
      "\n",
      "Creating creating values to add to gameStats table\n",
      "Done creating values to add to gameStats table\n",
      "syntax error at or near \";\"\n",
      "LINE 1: ...der,blackACPL,openingName,eco,ply,moves,eval,winner) VALUES;\n",
      "                                                                      ^\n",
      "\n"
     ]
    }
   ],
   "source": [
    "dbManager.populateUsersTable(\"../Data/Scraped_Files/\")\n",
    "dbManager.populateGamesTable(\"../Data/Scraped_Files/\")\n",
    "dbManager.populateGameStatsTable(\"../Data/Scraped_Files/\")"
   ]
  },
  {
   "cell_type": "code",
   "execution_count": 6,
   "metadata": {},
   "outputs": [],
   "source": [
    "users = dbManager.getDataFrame(\"SELECT * FROM users;\")\n",
    "games = dbManager.getDataFrame(\"SELECT * FROM games;\")\n",
    "gameStats = dbManager.getDataFrame(\"SELECT * FROM gameStats;\")"
   ]
  },
  {
   "cell_type": "code",
   "execution_count": null,
   "metadata": {},
   "outputs": [],
   "source": [
    "# check users distribution\n",
    "users['rating'].plot.kde()"
   ]
  },
  {
   "cell_type": "code",
   "execution_count": 8,
   "metadata": {},
   "outputs": [
    {
     "name": "stdout",
     "output_type": "stream",
     "text": [
      "0 json files\n"
     ]
    }
   ],
   "source": [
    "import json \n",
    "import os \n",
    "\n",
    "path = \"../tempSusGames\"\n",
    "print(len(os.listdir(path)), \"json files\")\n",
    "for game in os.listdir(path):\n",
    "    with open(f\"{path}/{game}\") as f:\n",
    "        gameFile = json.load(f)\n",
    "        white = gameFile['players']['white']['user']['name']\n",
    "        black = gameFile['players']['black']['user']['name']\n",
    "        if (os.path.isdir(f'../Data/Scraped_Files/{white}')):\n",
    "            os.rename(f\"{path}/{game}\", f'../Data/Scraped_Files/{white}/{game}')\n",
    "        elif (os.path.isdir(f'../Data/Scraped_Files/{black}')):\n",
    "            os.rename(f\"{path}/{game}\", f'../Data/Scraped_Files/{black}/{game}')\n",
    "        else:\n",
    "            print(os.listdir(f'../Data/Scraped_Files/{white}'))\n"
   ]
  },
  {
   "cell_type": "code",
   "execution_count": null,
   "metadata": {},
   "outputs": [],
   "source": []
  },
  {
   "cell_type": "code",
   "execution_count": null,
   "metadata": {},
   "outputs": [],
   "source": []
  }
 ],
 "metadata": {
  "kernelspec": {
   "display_name": "Python 3.10.6 64-bit",
   "language": "python",
   "name": "python3"
  },
  "language_info": {
   "codemirror_mode": {
    "name": "ipython",
    "version": 3
   },
   "file_extension": ".py",
   "mimetype": "text/x-python",
   "name": "python",
   "nbconvert_exporter": "python",
   "pygments_lexer": "ipython3",
   "version": "3.10.6"
  },
  "orig_nbformat": 4,
  "vscode": {
   "interpreter": {
    "hash": "b0fa6594d8f4cbf19f97940f81e996739fb7646882a419484c72d19e05852a7e"
   }
  }
 },
 "nbformat": 4,
 "nbformat_minor": 2
}
