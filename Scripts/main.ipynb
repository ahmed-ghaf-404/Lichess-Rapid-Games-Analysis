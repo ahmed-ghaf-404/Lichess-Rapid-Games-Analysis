{
 "cells": [
  {
   "cell_type": "code",
   "execution_count": 1,
   "metadata": {},
   "outputs": [],
   "source": [
    "# imports\n",
    "from Helper import Helper\n",
    "from DatabaseManager import DatabaseManager"
   ]
  },
  {
   "cell_type": "code",
   "execution_count": 2,
   "metadata": {},
   "outputs": [
    {
     "name": "stdout",
     "output_type": "stream",
     "text": [
      "terminating database....\n",
      "terminating database....\n",
      "terminating database....\n",
      "terminating database....\n"
     ]
    }
   ],
   "source": [
    "# load database\n",
    "dbManager = DatabaseManager()\n",
    "helper = Helper(dbManager)"
   ]
  },
  {
   "cell_type": "code",
   "execution_count": 3,
   "metadata": {},
   "outputs": [
    {
     "name": "stdout",
     "output_type": "stream",
     "text": [
      "terminating database....\n",
      "[('onetti2015eto', None, 1510), ('alequine', None, 1633), ('vrishti_grade1', None, 1391), ('spsilvio', None, 1221), ('jackspar', None, 1590)]\n",
      "terminating database....\n",
      "[]\n",
      "terminating database....\n",
      "[('M1i9n767', 'mate', 'benedictchessman', 2068, 2, 2, 2, 76, 'notsalomon', 2117, 4, 1, 0, 28, 'Sicilian Defense: Hyperaccelerated Dragon', 'B27', 4, ['e4', 'c5', 'Nf3', 'g6', 'c3', 'd5', 'exd5', 'Qxd5', 'Na3', 'Bg7', 'd4', 'cxd4', 'Nb5', 'Na6', 'Nbxd4', 'Nf6', 'Bb5+', 'Bd7', 'Bxd7+', 'Nxd7', 'O-O', 'O-O', 'Bf4', 'Rad8', 'Be3', 'Nac5', 'Qc2', 'Rfe8', 'a3', 'e5', 'Ne2', 'e4', 'Nfd4', 'Nd3', 'Rad1', 'N7e5', 'b3', 'Qd6', 'a4', 'Ng4', 'Nb5', 'Qxh2#'], [33, 32, 0, 64, 41, 46, 16, 38, 16, 25, 18, 0, 13, 24, 27, 17, 16, 12, 7, 3, -6, 0, -56, -42, -20, -32, -46, 25, -60, -2, -131, -74, -102, -71, -78, -64, -300, -118, -268, -247], 1)]\n"
     ]
    }
   ],
   "source": [
    "# checking the users table\n",
    "print(dbManager.runCommand(\"SELECT * FROM users LIMIT 5;\"))\n",
    "# checking the games table\n",
    "print(dbManager.runCommand(\"SELECT * FROM games LIMIT 1;\"))\n",
    "# checking the gameStats table\n",
    "print(dbManager.runCommand(\"SELECT * FROM gameStats LIMIT 1;\"))"
   ]
  },
  {
   "cell_type": "code",
   "execution_count": 6,
   "metadata": {},
   "outputs": [
    {
     "name": "stdout",
     "output_type": "stream",
     "text": [
      "terminating database....\n",
      "[(39685,)]\n",
      "terminating database....\n",
      "[(44652,)]\n",
      "terminating database....\n",
      "[(44652,)]\n"
     ]
    }
   ],
   "source": [
    "# checking the users table\n",
    "print(dbManager.runCommand(\"SELECT COUNT(*) FROM users LIMIT 5;\"))\n",
    "# checking the games table\n",
    "print(dbManager.runCommand(\"SELECT COUNT(*) FROM games LIMIT 1;\"))\n",
    "# checking the gameStats table\n",
    "print(dbManager.runCommand(\"SELECT COUNT(*) FROM gameStats LIMIT 1;\"))"
   ]
  },
  {
   "cell_type": "code",
   "execution_count": 5,
   "metadata": {},
   "outputs": [
    {
     "name": "stdout",
     "output_type": "stream",
     "text": [
      "Creating creating values to add to users table\n",
      "Done creating values to add to users table: 12031 element\n",
      "Creating creating values to add to games table\n",
      "Done creating values to add to games table: 44652 element\n",
      "Command has been executed\n",
      "terminating database....\n",
      "Creating creating values to add to gameStats table\n",
      "Done creating values to add to gameStats table\n",
      "syntax error at or near \";\"\n",
      "LINE 1: ...der,blackACPL,openingName,eco,ply,moves,eval,winner) VALUES;\n",
      "                                                                      ^\n",
      "\n"
     ]
    }
   ],
   "source": [
    "dbManager.populateUsersTable(\"../Data/Scraped_Files/\")\n",
    "dbManager.populateGamesTable(\"../Data/Scraped_Files/\")\n",
    "dbManager.populateGameStatsTable(\"../Data/Scraped_Files/\")"
   ]
  },
  {
   "cell_type": "code",
   "execution_count": 7,
   "metadata": {},
   "outputs": [],
   "source": [
    "users = dbManager.getDataFrame(\"SELECT * FROM users;\")\n",
    "games = dbManager.getDataFrame(\"SELECT * FROM games;\")\n",
    "gameStats = dbManager.getDataFrame(\"SELECT * FROM gameStats;\")"
   ]
  },
  {
   "cell_type": "code",
   "execution_count": null,
   "metadata": {},
   "outputs": [],
   "source": [
    "users.head()"
   ]
  },
  {
   "cell_type": "code",
   "execution_count": 8,
   "metadata": {},
   "outputs": [
    {
     "data": {
      "text/plain": [
       "<AxesSubplot: ylabel='Density'>"
      ]
     },
     "execution_count": 8,
     "metadata": {},
     "output_type": "execute_result"
    },
    {
     "data": {
      "image/png": "[encoded data removed]",
      "text/plain": [
       "<Figure size 640x480 with 1 Axes>"
      ]
     },
     "metadata": {},
     "output_type": "display_data"
    }
   ],
   "source": [
    "# check users distribution\n",
    "users['rating'].plot.kde()"
   ]
  },
  {
   "cell_type": "code",
   "execution_count": 20,
   "metadata": {},
   "outputs": [
    {
     "data": {
      "text/plain": [
       "773"
      ]
     },
     "execution_count": 20,
     "metadata": {},
     "output_type": "execute_result"
    }
   ],
   "source": [
    "# we need more users rated under 1700\n",
    "users_under_1000 = users[users['rating']<=1000]['userid'].tolist()\n",
    "len(users_under_1000)"
   ]
  },
  {
   "cell_type": "code",
   "execution_count": null,
   "metadata": {},
   "outputs": [],
   "source": [
    "done = []\n",
    "new_username_set = set()\n",
    "for user in users_under_1000:\n",
    "    new_username = helper.scrape_n_rapid_games('../Data/Scraped_Files',user,50, True, True)\n",
    "    new_username_set.union(new_username)\n",
    "    done.append(user)"
   ]
  },
  {
   "cell_type": "code",
   "execution_count": null,
   "metadata": {},
   "outputs": [],
   "source": [
    "print(len(done))\n",
    "for user in done:\n",
    "    done.remove(user)\n",
    "    users_under_1700.remove(user)"
   ]
  },
  {
   "cell_type": "code",
   "execution_count": null,
   "metadata": {},
   "outputs": [],
   "source": [
    "import os\n",
    "import json\n",
    "\n",
    "path = \"../Data/Scraped_Files\"\n",
    "gameId = None\n",
    "to_be_deleted = []\n",
    "for user in os.listdir(path):\n",
    "    for game in os.listdir(f\"{path}/{user}\"):\n",
    "        if os.path.getsize(f\"{path}/{user}/{game}\") == 0:\n",
    "            os.remove(f\"{path}/{user}/{game}\")\n",
    "        with open(f\"{path}/{user}/{game}\", \"r\") as f:\n",
    "            g = json.load(f)\n",
    "            gameId = g['id']\n",
    "            for game2 in os.listdir(f\"{path}/{user}\"):\n",
    "                if game == game2:\n",
    "                    continue\n",
    "                with open(f\"{path}/{user}/{game2}\", \"r\") as f2:\n",
    "                    g2 = json.load(f2)\n",
    "                    gameId2 = g2['id']\n",
    "                    if gameId == gameId2:\n",
    "                        if os.path.isfile(f\"{path}/{user}/{game}\"):\n",
    "                            to_be_deleted.append(f\"{path}/{user}/{game}\")"
   ]
  },
  {
   "cell_type": "code",
   "execution_count": null,
   "metadata": {},
   "outputs": [],
   "source": [
    "for filename in to_be_deleted:\n",
    "    if filename[-7]==' ':\n",
    "        print(filename)\n",
    "        try:\n",
    "            os.remove(filename)\n",
    "        except:\n",
    "            continue"
   ]
  },
  {
   "cell_type": "code",
   "execution_count": null,
   "metadata": {},
   "outputs": [],
   "source": []
  }
 ],
 "metadata": {
  "kernelspec": {
   "display_name": "Python 3.10.6 64-bit",
   "language": "python",
   "name": "python3"
  },
  "language_info": {
   "codemirror_mode": {
    "name": "ipython",
    "version": 3
   },
   "file_extension": ".py",
   "mimetype": "text/x-python",
   "name": "python",
   "nbconvert_exporter": "python",
   "pygments_lexer": "ipython3",
   "version": "3.10.6"
  },
  "orig_nbformat": 4,
  "vscode": {
   "interpreter": {
    "hash": "b0fa6594d8f4cbf19f97940f81e996739fb7646882a419484c72d19e05852a7e"
   }
  }
 },
 "nbformat": 4,
 "nbformat_minor": 2
}
