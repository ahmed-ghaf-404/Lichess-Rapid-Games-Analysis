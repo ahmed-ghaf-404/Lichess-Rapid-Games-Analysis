{
 "cells": [
  {
   "cell_type": "markdown",
   "metadata": {},
   "source": [
    "### RUN file:\n",
    "#### You can use the cells to use functions in the helper Python file"
   ]
  },
  {
   "cell_type": "code",
   "execution_count": 17,
   "metadata": {},
   "outputs": [],
   "source": [
    "# The helper functions\n",
    "import helpers as helper\n",
    "import pandas as pd"
   ]
  },
  {
   "cell_type": "code",
   "execution_count": 1,
   "metadata": {},
   "outputs": [
    {
     "ename": "NameError",
     "evalue": "name 'helper' is not defined",
     "output_type": "error",
     "traceback": [
      "\u001b[0;31m---------------------------------------------------------------------------\u001b[0m",
      "\u001b[0;31mNameError\u001b[0m                                 Traceback (most recent call last)",
      "\u001b[1;32m/Users/ahmedalghafri/Documents/Documents - Ahmed’s MacBook Pro/GitHub/Chess-Level-Guesser/run.ipynb Cell 3\u001b[0m in \u001b[0;36m<cell line: 2>\u001b[0;34m()\u001b[0m\n\u001b[1;32m      <a href='vscode-notebook-cell:/Users/ahmedalghafri/Documents/Documents%20-%20Ahmed%E2%80%99s%20MacBook%20Pro/GitHub/Chess-Level-Guesser/run.ipynb#W2sZmlsZQ%3D%3D?line=0'>1</a>\u001b[0m username_csv_file \u001b[39m=\u001b[39m \u001b[39m\"\u001b[39m\u001b[39mData/Prepared_Data/Initial_Username_List.csv\u001b[39m\u001b[39m\"\u001b[39m\n\u001b[0;32m----> <a href='vscode-notebook-cell:/Users/ahmedalghafri/Documents/Documents%20-%20Ahmed%E2%80%99s%20MacBook%20Pro/GitHub/Chess-Level-Guesser/run.ipynb#W2sZmlsZQ%3D%3D?line=1'>2</a>\u001b[0m username_set \u001b[39m=\u001b[39m helper\u001b[39m.\u001b[39mgenerate_username_set(username_csv_file)\n",
      "\u001b[0;31mNameError\u001b[0m: name 'helper' is not defined"
     ]
    }
   ],
   "source": [
    "username_csv_file = \"Data/Prepared_Data/Initial_Username_List.csv\"\n",
    "username_set = helper.generate_username_set(username_csv_file)"
   ]
  },
  {
   "cell_type": "code",
   "execution_count": 16,
   "metadata": {},
   "outputs": [
    {
     "ename": "AttributeError",
     "evalue": "module 'helpers' has no attribute 'scrape_games'",
     "output_type": "error",
     "traceback": [
      "\u001b[0;31m---------------------------------------------------------------------------\u001b[0m",
      "\u001b[0;31mAttributeError\u001b[0m                            Traceback (most recent call last)",
      "\u001b[1;32m/Users/ahmedalghafri/Documents/Documents - Ahmed’s MacBook Pro/GitHub/Chess-Level-Guesser/run.ipynb Cell 4\u001b[0m in \u001b[0;36m<cell line: 2>\u001b[0;34m()\u001b[0m\n\u001b[1;32m      <a href='vscode-notebook-cell:/Users/ahmedalghafri/Documents/Documents%20-%20Ahmed%E2%80%99s%20MacBook%20Pro/GitHub/Chess-Level-Guesser/run.ipynb#W3sZmlsZQ%3D%3D?line=0'>1</a>\u001b[0m \u001b[39m# Use the username set to mine games from lichess.org\u001b[39;00m\n\u001b[0;32m----> <a href='vscode-notebook-cell:/Users/ahmedalghafri/Documents/Documents%20-%20Ahmed%E2%80%99s%20MacBook%20Pro/GitHub/Chess-Level-Guesser/run.ipynb#W3sZmlsZQ%3D%3D?line=1'>2</a>\u001b[0m username_set \u001b[39m=\u001b[39m helper\u001b[39m.\u001b[39;49mscrape_games(username_set, game_num\u001b[39m=\u001b[39m\u001b[39m3\u001b[39m)\n",
      "\u001b[0;31mAttributeError\u001b[0m: module 'helpers' has no attribute 'scrape_games'"
     ]
    }
   ],
   "source": [
    "# Use the username set to mine games from lichess.org\n",
    "username_set = helper.scrape_games(username_set, game_num=3)\n",
    "# ! Has not been completed!"
   ]
  },
  {
   "cell_type": "code",
   "execution_count": null,
   "metadata": {},
   "outputs": [],
   "source": [
    "# store data in a dataframe.\n",
    "df = helper.generate_final_dataset()"
   ]
  },
  {
   "cell_type": "code",
   "execution_count": null,
   "metadata": {},
   "outputs": [],
   "source": [
    "# Create a CSV file from the DataFrame\n",
    "df.to_csv(\"Data/CSV_Files/newDataSet.csv\")"
   ]
  },
  {
   "cell_type": "code",
   "execution_count": 1,
   "metadata": {},
   "outputs": [],
   "source": [
    "df = pd.read_csv(\"Data/CSV_Files/final_dataset.csv\")"
   ]
  },
  {
   "cell_type": "code",
   "execution_count": 3,
   "metadata": {},
   "outputs": [],
   "source": [
    "df.drop([\"Match Ranking\"], axis=1, inplace=True)"
   ]
  },
  {
   "cell_type": "code",
   "execution_count": 4,
   "metadata": {},
   "outputs": [],
   "source": [
    "df.to_csv(\"Chess games stats.csv\")"
   ]
  },
  {
   "cell_type": "code",
   "execution_count": null,
   "metadata": {},
   "outputs": [],
   "source": []
  }
 ],
 "metadata": {
  "kernelspec": {
   "display_name": "Python 3.9.13 64-bit",
   "language": "python",
   "name": "python3"
  },
  "language_info": {
   "codemirror_mode": {
    "name": "ipython",
    "version": 3
   },
   "file_extension": ".py",
   "mimetype": "text/x-python",
   "name": "python",
   "nbconvert_exporter": "python",
   "pygments_lexer": "ipython3",
   "version": "3.10.6"
  },
  "orig_nbformat": 4,
  "vscode": {
   "interpreter": {
    "hash": "b0fa6594d8f4cbf19f97940f81e996739fb7646882a419484c72d19e05852a7e"
   }
  }
 },
 "nbformat": 4,
 "nbformat_minor": 2
}
