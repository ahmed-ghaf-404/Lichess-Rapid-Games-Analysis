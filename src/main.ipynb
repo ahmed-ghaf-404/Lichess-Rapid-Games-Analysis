{
 "cells": [
  {
   "cell_type": "code",
   "execution_count": 1,
   "metadata": {},
   "outputs": [],
   "source": [
    "# imports\n",
    "from Helper import Helper\n",
    "from DatabaseManager import DatabaseManager"
   ]
  },
  {
   "cell_type": "code",
   "execution_count": 2,
   "metadata": {},
   "outputs": [
    {
     "name": "stdout",
     "output_type": "stream",
     "text": [
      "terminating database....\n",
      "terminating database....\n",
      "terminating database....\n",
      "terminating database....\n"
     ]
    }
   ],
   "source": [
    "# load database\n",
    "dbManager = DatabaseManager()\n",
    "helper = Helper(dbManager)"
   ]
  },
  {
   "cell_type": "code",
   "execution_count": 3,
   "metadata": {},
   "outputs": [
    {
     "name": "stdout",
     "output_type": "stream",
     "text": [
      "terminating database....\n",
      "[(43149,)]\n",
      "terminating database....\n",
      "[(44652,)]\n",
      "terminating database....\n",
      "[(44652,)]\n"
     ]
    }
   ],
   "source": [
    "# checking the users table\n",
    "print(dbManager.runCommand(\"SELECT COUNT(*) FROM users LIMIT 5;\"))\n",
    "# checking the games table\n",
    "print(dbManager.runCommand(\"SELECT COUNT(*) FROM games LIMIT 1;\"))\n",
    "# checking the gameStats table\n",
    "print(dbManager.runCommand(\"SELECT COUNT(*) FROM gameStats LIMIT 1;\"))"
   ]
  },
  {
   "cell_type": "code",
   "execution_count": null,
   "metadata": {},
   "outputs": [],
   "source": [
    "# populating the tables if needed\n",
    "dbManager.populateUsersTable(\"../Data/Scraped_Files/\")\n",
    "dbManager.populateGamesTable(\"../Data/Scraped_Files/\")\n",
    "dbManager.populateGameStatsTable(\"../Data/Scraped_Files/\")"
   ]
  },
  {
   "cell_type": "code",
   "execution_count": 4,
   "metadata": {},
   "outputs": [],
   "source": [
    "users = dbManager.getDataFrame(\"SELECT * FROM users;\")\n",
    "games = dbManager.getDataFrame(\"SELECT * FROM games;\")\n",
    "gameStats = dbManager.getDataFrame(\"SELECT * FROM gameStats;\")"
   ]
  },
  {
   "cell_type": "code",
   "execution_count": 6,
   "metadata": {},
   "outputs": [
    {
     "name": "stdout",
     "output_type": "stream",
     "text": [
      "22\n"
     ]
    },
    {
     "data": {
      "text/plain": [
       "<AxesSubplot: ylabel='Frequency'>"
      ]
     },
     "execution_count": 6,
     "metadata": {},
     "output_type": "execute_result"
    },
    {
     "data": {
      "image/png": "[encoded data removed]",
      "text/plain": [
       "<Figure size 640x480 with 1 Axes>"
      ]
     },
     "metadata": {},
     "output_type": "display_data"
    }
   ],
   "source": [
    "u = users[users['rating']<700]\n",
    "print(len(u))\n",
    "u.plot.hist()"
   ]
  },
  {
   "cell_type": "code",
   "execution_count": 9,
   "metadata": {},
   "outputs": [
    {
     "data": {
      "text/plain": [
       "<AxesSubplot: ylabel='Frequency'>"
      ]
     },
     "execution_count": 9,
     "metadata": {},
     "output_type": "execute_result"
    },
    {
     "data": {
      "image/png": "[encoded data removed]",
      "text/plain": [
       "<Figure size 640x480 with 1 Axes>"
      ]
     },
     "metadata": {},
     "output_type": "display_data"
    }
   ],
   "source": [
    "# check users distribution\n",
    "users['rating'].plot.hist(bins=30)"
   ]
  },
  {
   "cell_type": "code",
   "execution_count": 11,
   "metadata": {},
   "outputs": [
    {
     "name": "stdout",
     "output_type": "stream",
     "text": [
      "19192\n",
      "1975\n",
      "21897\n"
     ]
    }
   ],
   "source": [
    "# we need more users rated under 1700\n",
    "beginners = users[users['rating']<1500]\n",
    "advanced = users[users['rating']>2000]\n",
    "intermediate = users[users['rating']>1500]\n",
    "intermediate = intermediate[intermediate['rating']<2000]\n",
    "print(len(beginners))\n",
    "print(len(advanced))\n",
    "print(len(intermediate))"
   ]
  },
  {
   "cell_type": "code",
   "execution_count": 13,
   "metadata": {},
   "outputs": [
    {
     "name": "stdout",
     "output_type": "stream",
     "text": [
      "Added 30/50 to hossein_soltani\n",
      "Added 10/50 to mohamed_sadki\n"
     ]
    }
   ],
   "source": [
    "done = []\n",
    "new_username_set = set()\n",
    "for user in advanced['userid'].tolist():\n",
    "    new_username = helper.scrape_n_rapid_games('../Data/Scraped_Files',user,50, True, True)\n",
    "    new_username_set.union(new_username)\n",
    "    done.append(user)"
   ]
  },
  {
   "cell_type": "code",
   "execution_count": null,
   "metadata": {},
   "outputs": [],
   "source": [
    "print(len(done))\n",
    "for user in done:\n",
    "    done.remove(user)\n",
    "    users_under_1700.remove(user)"
   ]
  },
  {
   "cell_type": "code",
   "execution_count": null,
   "metadata": {},
   "outputs": [],
   "source": [
    "import os\n",
    "import json\n",
    "\n",
    "path = \"../Data/Scraped_Files\"\n",
    "gameId = None\n",
    "to_be_deleted = []\n",
    "for user in os.listdir(path):\n",
    "    for game in os.listdir(f\"{path}/{user}\"):\n",
    "        if os.path.getsize(f\"{path}/{user}/{game}\") == 0:\n",
    "            os.remove(f\"{path}/{user}/{game}\")\n",
    "        with open(f\"{path}/{user}/{game}\", \"r\") as f:\n",
    "            g = json.load(f)\n",
    "            gameId = g['id']\n",
    "            for game2 in os.listdir(f\"{path}/{user}\"):\n",
    "                if game == game2:\n",
    "                    continue\n",
    "                with open(f\"{path}/{user}/{game2}\", \"r\") as f2:\n",
    "                    g2 = json.load(f2)\n",
    "                    gameId2 = g2['id']\n",
    "                    if gameId == gameId2:\n",
    "                        if os.path.isfile(f\"{path}/{user}/{game}\"):\n",
    "                            to_be_deleted.append(f\"{path}/{user}/{game}\")"
   ]
  },
  {
   "cell_type": "code",
   "execution_count": null,
   "metadata": {},
   "outputs": [],
   "source": [
    "for filename in to_be_deleted:\n",
    "    if filename[-7]==' ':\n",
    "        print(filename)\n",
    "        try:\n",
    "            os.remove(filename)\n",
    "        except:\n",
    "            continue"
   ]
  },
  {
   "cell_type": "code",
   "execution_count": null,
   "metadata": {},
   "outputs": [],
   "source": [
    "user"
   ]
  },
  {
   "cell_type": "code",
   "execution_count": null,
   "metadata": {},
   "outputs": [],
   "source": []
  }
 ],
 "metadata": {
  "kernelspec": {
   "display_name": "Python 3.10.6 64-bit",
   "language": "python",
   "name": "python3"
  },
  "language_info": {
   "codemirror_mode": {
    "name": "ipython",
    "version": 3
   },
   "file_extension": ".py",
   "mimetype": "text/x-python",
   "name": "python",
   "nbconvert_exporter": "python",
   "pygments_lexer": "ipython3",
   "version": "3.10.6"
  },
  "orig_nbformat": 4,
  "vscode": {
   "interpreter": {
    "hash": "b0fa6594d8f4cbf19f97940f81e996739fb7646882a419484c72d19e05852a7e"
   }
  }
 },
 "nbformat": 4,
 "nbformat_minor": 2
}
